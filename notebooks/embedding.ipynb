{
 "cells": [
  {
   "cell_type": "code",
   "execution_count": 2,
   "metadata": {},
   "outputs": [
    {
     "data": {
      "text/plain": [
       "['/home/andrecosta/sideprojects/transformer/notebooks',\n",
       " '/home/andrecosta/anaconda3/lib/python312.zip',\n",
       " '/home/andrecosta/anaconda3/lib/python3.12',\n",
       " '/home/andrecosta/anaconda3/lib/python3.12/lib-dynload',\n",
       " '',\n",
       " '/home/andrecosta/anaconda3/lib/python3.12/site-packages',\n",
       " '../']"
      ]
     },
     "execution_count": 2,
     "metadata": {},
     "output_type": "execute_result"
    }
   ],
   "source": [
    "import sys\n",
    "sys.path.append('../')\n",
    "sys.path"
   ]
  },
  {
   "cell_type": "code",
   "execution_count": 9,
   "metadata": {},
   "outputs": [
    {
     "name": "stdout",
     "output_type": "stream",
     "text": [
      "The autoreload extension is already loaded. To reload it, use:\n",
      "  %reload_ext autoreload\n"
     ]
    }
   ],
   "source": [
    "from transformer.embed import Embeddings\n",
    "from transformer.penc import PositionalEncoding\n",
    "\n",
    "import altair as alt\n",
    "import pandas as pd\n",
    "\n",
    "import torch\n",
    "import torch.nn as nn\n",
    "\n",
    "import copy\n",
    "\n",
    "%load_ext autoreload\n",
    "%autoreload 2"
   ]
  },
  {
   "cell_type": "code",
   "execution_count": 117,
   "metadata": {},
   "outputs": [],
   "source": [
    "d_model = 6\n",
    "src_vocab = 3"
   ]
  },
  {
   "cell_type": "code",
   "execution_count": 118,
   "metadata": {},
   "outputs": [],
   "source": [
    "c = copy.deepcopy\n",
    "position = PositionalEncoding(d_model, dropout=0)\n",
    "embedding = Embeddings(d_model, src_vocab)\n",
    "src_embed = nn.Sequential(c(embedding), c(position))\n",
    "src_embed_wo_pe = c(embedding) # w/o positional encoding"
   ]
  },
  {
   "cell_type": "code",
   "execution_count": 125,
   "metadata": {},
   "outputs": [],
   "source": [
    "src = torch.LongTensor([[0, 2]])"
   ]
  },
  {
   "cell_type": "code",
   "execution_count": 127,
   "metadata": {},
   "outputs": [
    {
     "data": {
      "text/plain": [
       "tensor([[[ 2.1633,  0.2062,  0.5971,  1.9703,  0.3285,  4.7211],\n",
       "         [ 2.8611, -3.2178, -1.3646,  2.2150, -2.2005,  3.5237]]],\n",
       "       grad_fn=<AddBackward0>)"
      ]
     },
     "execution_count": 127,
     "metadata": {},
     "output_type": "execute_result"
    }
   ],
   "source": [
    "src_embed(src)"
   ]
  },
  {
   "cell_type": "code",
   "execution_count": 128,
   "metadata": {},
   "outputs": [
    {
     "data": {
      "text/plain": [
       "tensor([[[ 2.1633, -0.7938,  0.5971,  0.9703,  0.3285,  3.7211],\n",
       "         [ 2.0196, -3.7581, -1.4110,  1.2161, -2.2027,  2.5237]]],\n",
       "       grad_fn=<MulBackward0>)"
      ]
     },
     "execution_count": 128,
     "metadata": {},
     "output_type": "execute_result"
    }
   ],
   "source": [
    "z = src_embed_wo_pe(src)\n",
    "z"
   ]
  },
  {
   "cell_type": "code",
   "execution_count": 133,
   "metadata": {},
   "outputs": [
    {
     "data": {
      "text/plain": [
       "tensor([[[ 2.1633,  0.2062,  0.5971,  1.9703,  0.3285,  4.7211],\n",
       "         [ 2.8611, -3.2178, -1.3646,  2.2150, -2.2005,  3.5237]]],\n",
       "       grad_fn=<AddBackward0>)"
      ]
     },
     "execution_count": 133,
     "metadata": {},
     "output_type": "execute_result"
    }
   ],
   "source": [
    "c(position)(z)"
   ]
  }
 ],
 "metadata": {
  "kernelspec": {
   "display_name": "base",
   "language": "python",
   "name": "python3"
  },
  "language_info": {
   "codemirror_mode": {
    "name": "ipython",
    "version": 3
   },
   "file_extension": ".py",
   "mimetype": "text/x-python",
   "name": "python",
   "nbconvert_exporter": "python",
   "pygments_lexer": "ipython3",
   "version": "3.12.4"
  }
 },
 "nbformat": 4,
 "nbformat_minor": 2
}
