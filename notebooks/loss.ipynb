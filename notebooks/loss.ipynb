{
 "cells": [
  {
   "cell_type": "code",
   "execution_count": 2,
   "metadata": {},
   "outputs": [
    {
     "data": {
      "text/plain": [
       "['/home/andrecosta/sideprojects/transformer/notebooks',\n",
       " '/home/andrecosta/anaconda3/lib/python312.zip',\n",
       " '/home/andrecosta/anaconda3/lib/python3.12',\n",
       " '/home/andrecosta/anaconda3/lib/python3.12/lib-dynload',\n",
       " '',\n",
       " '/home/andrecosta/anaconda3/lib/python3.12/site-packages',\n",
       " '../']"
      ]
     },
     "execution_count": 2,
     "metadata": {},
     "output_type": "execute_result"
    }
   ],
   "source": [
    "import sys\n",
    "sys.path.append('../')\n",
    "sys.path"
   ]
  },
  {
   "cell_type": "code",
   "execution_count": 48,
   "metadata": {},
   "outputs": [
    {
     "name": "stdout",
     "output_type": "stream",
     "text": [
      "The autoreload extension is already loaded. To reload it, use:\n",
      "  %reload_ext autoreload\n"
     ]
    }
   ],
   "source": [
    "from transformer.loss import SimpleLossCompute\n",
    "from transformer.generator import Generator\n",
    "from transformer.smoothing import LabelSmoothing\n",
    "from transformer.fake_data import data_gen\n",
    "from transformer.model import make_model\n",
    "\n",
    "import torch\n",
    "import torch.nn as nn\n",
    "\n",
    "%load_ext autoreload\n",
    "%autoreload 2"
   ]
  },
  {
   "cell_type": "code",
   "execution_count": 49,
   "metadata": {},
   "outputs": [],
   "source": [
    "V = 3\n",
    "batch_size = 5\n",
    "n_batches = 3\n",
    "train_data = list(data_gen(V, batch_size, n_batches))"
   ]
  },
  {
   "cell_type": "code",
   "execution_count": 50,
   "metadata": {},
   "outputs": [],
   "source": [
    "model = make_model(V, V, N=2)\n",
    "criterion = LabelSmoothing(size=V, padding_idx=0, smoothing=0.0)\n",
    "loss_compute = SimpleLossCompute(model.generator, criterion)\n"
   ]
  },
  {
   "cell_type": "code",
   "execution_count": 52,
   "metadata": {},
   "outputs": [
    {
     "name": "stdout",
     "output_type": "stream",
     "text": [
      "torch.Size([5, 9, 512])\n"
     ]
    }
   ],
   "source": [
    "batch = train_data[0]\n",
    "out = model.forward(\n",
    "    batch.src, batch.tgt, batch.src_mask, batch.tgt_mask\n",
    ")\n",
    "print(out.shape)\n",
    "# out"
   ]
  },
  {
   "cell_type": "code",
   "execution_count": 61,
   "metadata": {},
   "outputs": [
    {
     "data": {
      "text/plain": [
       "(tensor(53.8912, grad_fn=<SumBackward0>),\n",
       " tensor(1.1976, grad_fn=<DivBackward0>))"
      ]
     },
     "execution_count": 61,
     "metadata": {},
     "output_type": "execute_result"
    }
   ],
   "source": [
    "loss, loss_node = loss_compute(out, batch.tgt_y, batch.ntokens)  # ??\n",
    "loss, loss_node"
   ]
  },
  {
   "cell_type": "code",
   "execution_count": 72,
   "metadata": {},
   "outputs": [
    {
     "data": {
      "text/plain": [
       "tensor([[1, 1, 1, 2, 2, 2, 2, 1, 1, 2],\n",
       "        [1, 1, 1, 1, 1, 1, 2, 1, 1, 2],\n",
       "        [1, 2, 1, 2, 1, 1, 2, 1, 1, 2],\n",
       "        [1, 1, 1, 2, 1, 1, 1, 1, 1, 1],\n",
       "        [1, 1, 2, 1, 2, 2, 1, 1, 2, 1]])"
      ]
     },
     "execution_count": 72,
     "metadata": {},
     "output_type": "execute_result"
    }
   ],
   "source": [
    "batch.src"
   ]
  },
  {
   "cell_type": "code",
   "execution_count": 71,
   "metadata": {},
   "outputs": [
    {
     "data": {
      "text/plain": [
       "(torch.Size([5, 10]),\n",
       " torch.Size([5, 9, 512]),\n",
       " torch.Size([5, 9, 3]),\n",
       " torch.Size([5, 9]))"
      ]
     },
     "execution_count": 71,
     "metadata": {},
     "output_type": "execute_result"
    }
   ],
   "source": [
    "x = model.generator(out)\n",
    "batch.src.shape, out.shape, x.shape, batch.tgt_y.shape"
   ]
  },
  {
   "cell_type": "code",
   "execution_count": 87,
   "metadata": {},
   "outputs": [],
   "source": [
    "x = x.contiguous().view(-1, x.size(-1))\n",
    "target = batch.tgt_y.contiguous().view(-1)"
   ]
  },
  {
   "cell_type": "code",
   "execution_count": 75,
   "metadata": {},
   "outputs": [],
   "source": [
    "smoothing = 0.1\n",
    "size = 3"
   ]
  },
  {
   "cell_type": "code",
   "execution_count": 86,
   "metadata": {},
   "outputs": [
    {
     "data": {
      "text/plain": [
       "torch.Size([5, 9, 3])"
      ]
     },
     "execution_count": 86,
     "metadata": {},
     "output_type": "execute_result"
    }
   ],
   "source": []
  },
  {
   "cell_type": "code",
   "execution_count": 97,
   "metadata": {},
   "outputs": [
    {
     "data": {
      "text/plain": [
       "tensor([1, 1, 2, 2, 2, 2, 1, 1, 2, 1, 1, 1, 1, 1, 2, 1, 1, 2, 2, 1, 2, 1, 1, 2,\n",
       "        1, 1, 2, 1, 1, 2, 1, 1, 1, 1, 1, 1, 1, 2, 1, 2, 2, 1, 1, 2, 1])"
      ]
     },
     "execution_count": 97,
     "metadata": {},
     "output_type": "execute_result"
    }
   ],
   "source": [
    "target.data"
   ]
  },
  {
   "cell_type": "code",
   "execution_count": 99,
   "metadata": {},
   "outputs": [
    {
     "data": {
      "text/plain": [
       "tensor([], size=(0, 1), dtype=torch.int64)"
      ]
     },
     "execution_count": 99,
     "metadata": {},
     "output_type": "execute_result"
    }
   ],
   "source": [
    "mask = torch.nonzero(target.data == 0)\n",
    "mask"
   ]
  },
  {
   "cell_type": "code",
   "execution_count": 100,
   "metadata": {},
   "outputs": [
    {
     "data": {
      "text/plain": [
       "tensor([[0.0000, 0.9000, 0.1000],\n",
       "        [0.0000, 0.9000, 0.1000],\n",
       "        [0.0000, 0.1000, 0.9000],\n",
       "        [0.0000, 0.1000, 0.9000],\n",
       "        [0.0000, 0.1000, 0.9000],\n",
       "        [0.0000, 0.1000, 0.9000],\n",
       "        [0.0000, 0.9000, 0.1000],\n",
       "        [0.0000, 0.9000, 0.1000],\n",
       "        [0.0000, 0.1000, 0.9000],\n",
       "        [0.0000, 0.9000, 0.1000],\n",
       "        [0.0000, 0.9000, 0.1000],\n",
       "        [0.0000, 0.9000, 0.1000],\n",
       "        [0.0000, 0.9000, 0.1000],\n",
       "        [0.0000, 0.9000, 0.1000],\n",
       "        [0.0000, 0.1000, 0.9000],\n",
       "        [0.0000, 0.9000, 0.1000],\n",
       "        [0.0000, 0.9000, 0.1000],\n",
       "        [0.0000, 0.1000, 0.9000],\n",
       "        [0.0000, 0.1000, 0.9000],\n",
       "        [0.0000, 0.9000, 0.1000],\n",
       "        [0.0000, 0.1000, 0.9000],\n",
       "        [0.0000, 0.9000, 0.1000],\n",
       "        [0.0000, 0.9000, 0.1000],\n",
       "        [0.0000, 0.1000, 0.9000],\n",
       "        [0.0000, 0.9000, 0.1000],\n",
       "        [0.0000, 0.9000, 0.1000],\n",
       "        [0.0000, 0.1000, 0.9000],\n",
       "        [0.0000, 0.9000, 0.1000],\n",
       "        [0.0000, 0.9000, 0.1000],\n",
       "        [0.0000, 0.1000, 0.9000],\n",
       "        [0.0000, 0.9000, 0.1000],\n",
       "        [0.0000, 0.9000, 0.1000],\n",
       "        [0.0000, 0.9000, 0.1000],\n",
       "        [0.0000, 0.9000, 0.1000],\n",
       "        [0.0000, 0.9000, 0.1000],\n",
       "        [0.0000, 0.9000, 0.1000],\n",
       "        [0.0000, 0.9000, 0.1000],\n",
       "        [0.0000, 0.1000, 0.9000],\n",
       "        [0.0000, 0.9000, 0.1000],\n",
       "        [0.0000, 0.1000, 0.9000],\n",
       "        [0.0000, 0.1000, 0.9000],\n",
       "        [0.0000, 0.9000, 0.1000],\n",
       "        [0.0000, 0.9000, 0.1000],\n",
       "        [0.0000, 0.1000, 0.9000],\n",
       "        [0.0000, 0.9000, 0.1000]])"
      ]
     },
     "execution_count": 100,
     "metadata": {},
     "output_type": "execute_result"
    }
   ],
   "source": [
    "true_dist = x.data.clone()\n",
    "# true_dist.shape\n",
    "true_dist.fill_(smoothing/(size - 2))\n",
    "true_dist.scatter_(1, target.data.unsqueeze(1), (1-smoothing))\n",
    "true_dist[:, 0] = 0\n",
    "true_dist"
   ]
  },
  {
   "cell_type": "code",
   "execution_count": 103,
   "metadata": {},
   "outputs": [],
   "source": [
    "crit = nn.KLDivLoss(reduction=\"sum\")"
   ]
  },
  {
   "cell_type": "code",
   "execution_count": 106,
   "metadata": {},
   "outputs": [
    {
     "data": {
      "text/plain": [
       "tensor(38.2559, grad_fn=<SumBackward0>)"
      ]
     },
     "execution_count": 106,
     "metadata": {},
     "output_type": "execute_result"
    }
   ],
   "source": [
    "crit(x,  true_dist.clone().detach())"
   ]
  }
 ],
 "metadata": {
  "kernelspec": {
   "display_name": "base",
   "language": "python",
   "name": "python3"
  },
  "language_info": {
   "codemirror_mode": {
    "name": "ipython",
    "version": 3
   },
   "file_extension": ".py",
   "mimetype": "text/x-python",
   "name": "python",
   "nbconvert_exporter": "python",
   "pygments_lexer": "ipython3",
   "version": "3.12.4"
  }
 },
 "nbformat": 4,
 "nbformat_minor": 2
}
